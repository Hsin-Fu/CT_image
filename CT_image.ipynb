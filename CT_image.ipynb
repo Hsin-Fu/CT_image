{
 "cells": [
  {
   "cell_type": "code",
   "execution_count": 2,
   "metadata": {},
   "outputs": [
    {
     "name": "stderr",
     "output_type": "stream",
     "text": [
      "/home/hsinfu/.local/lib/python3.8/site-packages/skimage/io/manage_plugins.py:23: UserWarning: Your installed pillow version is < 8.1.2. Several security issues (CVE-2021-27921, CVE-2021-25290, CVE-2021-25291, CVE-2021-25293, and more) have been fixed in pillow 8.1.2 or higher. We recommend to upgrade this library.\n",
      "  from .collection import imread_collection_wrapper\n",
      "2022-04-13 12:26:10.569569: W tensorflow/stream_executor/platform/default/dso_loader.cc:64] Could not load dynamic library 'libcudart.so.11.0'; dlerror: libcudart.so.11.0: cannot open shared object file: No such file or directory\n",
      "2022-04-13 12:26:10.569681: I tensorflow/stream_executor/cuda/cudart_stub.cc:29] Ignore above cudart dlerror if you do not have a GPU set up on your machine.\n"
     ]
    }
   ],
   "source": [
    "import numpy as np # matrix tools\n",
    "import matplotlib.pyplot as plt # for basic plots\n",
    "import seaborn as sns # for nicer plots\n",
    "import pandas as pd\n",
    "from glob import glob\n",
    "import re\n",
    "from skimage.io import imread\n",
    "\n",
    "import keras"
   ]
  },
  {
   "cell_type": "code",
   "execution_count": 3,
   "metadata": {},
   "outputs": [
    {
     "data": {
      "text/html": [
       "<div>\n",
       "<style scoped>\n",
       "    .dataframe tbody tr th:only-of-type {\n",
       "        vertical-align: middle;\n",
       "    }\n",
       "\n",
       "    .dataframe tbody tr th {\n",
       "        vertical-align: top;\n",
       "    }\n",
       "\n",
       "    .dataframe thead th {\n",
       "        text-align: right;\n",
       "    }\n",
       "</style>\n",
       "<table border=\"1\" class=\"dataframe\">\n",
       "  <thead>\n",
       "    <tr style=\"text-align: right;\">\n",
       "      <th></th>\n",
       "      <th>Unnamed: 0</th>\n",
       "      <th>Age</th>\n",
       "      <th>Contrast</th>\n",
       "      <th>ContrastTag</th>\n",
       "      <th>raw_input_path</th>\n",
       "      <th>id</th>\n",
       "      <th>tiff_name</th>\n",
       "      <th>dicom_name</th>\n",
       "    </tr>\n",
       "  </thead>\n",
       "  <tbody>\n",
       "    <tr>\n",
       "      <th>0</th>\n",
       "      <td>0</td>\n",
       "      <td>60</td>\n",
       "      <td>True</td>\n",
       "      <td>NONE</td>\n",
       "      <td>../data/50_50_dicom_cases\\Contrast\\00001 (1).dcm</td>\n",
       "      <td>0</td>\n",
       "      <td>ID_0000_AGE_0060_CONTRAST_1_CT.tif</td>\n",
       "      <td>ID_0000_AGE_0060_CONTRAST_1_CT.dcm</td>\n",
       "    </tr>\n",
       "    <tr>\n",
       "      <th>1</th>\n",
       "      <td>1</td>\n",
       "      <td>69</td>\n",
       "      <td>True</td>\n",
       "      <td>NONE</td>\n",
       "      <td>../data/50_50_dicom_cases\\Contrast\\00001 (10).dcm</td>\n",
       "      <td>1</td>\n",
       "      <td>ID_0001_AGE_0069_CONTRAST_1_CT.tif</td>\n",
       "      <td>ID_0001_AGE_0069_CONTRAST_1_CT.dcm</td>\n",
       "    </tr>\n",
       "    <tr>\n",
       "      <th>2</th>\n",
       "      <td>2</td>\n",
       "      <td>74</td>\n",
       "      <td>True</td>\n",
       "      <td>APPLIED</td>\n",
       "      <td>../data/50_50_dicom_cases\\Contrast\\00001 (11).dcm</td>\n",
       "      <td>2</td>\n",
       "      <td>ID_0002_AGE_0074_CONTRAST_1_CT.tif</td>\n",
       "      <td>ID_0002_AGE_0074_CONTRAST_1_CT.dcm</td>\n",
       "    </tr>\n",
       "    <tr>\n",
       "      <th>3</th>\n",
       "      <td>3</td>\n",
       "      <td>75</td>\n",
       "      <td>True</td>\n",
       "      <td>NONE</td>\n",
       "      <td>../data/50_50_dicom_cases\\Contrast\\00001 (12).dcm</td>\n",
       "      <td>3</td>\n",
       "      <td>ID_0003_AGE_0075_CONTRAST_1_CT.tif</td>\n",
       "      <td>ID_0003_AGE_0075_CONTRAST_1_CT.dcm</td>\n",
       "    </tr>\n",
       "    <tr>\n",
       "      <th>4</th>\n",
       "      <td>4</td>\n",
       "      <td>56</td>\n",
       "      <td>True</td>\n",
       "      <td>NONE</td>\n",
       "      <td>../data/50_50_dicom_cases\\Contrast\\00001 (13).dcm</td>\n",
       "      <td>4</td>\n",
       "      <td>ID_0004_AGE_0056_CONTRAST_1_CT.tif</td>\n",
       "      <td>ID_0004_AGE_0056_CONTRAST_1_CT.dcm</td>\n",
       "    </tr>\n",
       "  </tbody>\n",
       "</table>\n",
       "</div>"
      ],
      "text/plain": [
       "   Unnamed: 0  Age  Contrast ContrastTag  \\\n",
       "0           0   60      True        NONE   \n",
       "1           1   69      True        NONE   \n",
       "2           2   74      True     APPLIED   \n",
       "3           3   75      True        NONE   \n",
       "4           4   56      True        NONE   \n",
       "\n",
       "                                      raw_input_path  id  \\\n",
       "0   ../data/50_50_dicom_cases\\Contrast\\00001 (1).dcm   0   \n",
       "1  ../data/50_50_dicom_cases\\Contrast\\00001 (10).dcm   1   \n",
       "2  ../data/50_50_dicom_cases\\Contrast\\00001 (11).dcm   2   \n",
       "3  ../data/50_50_dicom_cases\\Contrast\\00001 (12).dcm   3   \n",
       "4  ../data/50_50_dicom_cases\\Contrast\\00001 (13).dcm   4   \n",
       "\n",
       "                            tiff_name                          dicom_name  \n",
       "0  ID_0000_AGE_0060_CONTRAST_1_CT.tif  ID_0000_AGE_0060_CONTRAST_1_CT.dcm  \n",
       "1  ID_0001_AGE_0069_CONTRAST_1_CT.tif  ID_0001_AGE_0069_CONTRAST_1_CT.dcm  \n",
       "2  ID_0002_AGE_0074_CONTRAST_1_CT.tif  ID_0002_AGE_0074_CONTRAST_1_CT.dcm  \n",
       "3  ID_0003_AGE_0075_CONTRAST_1_CT.tif  ID_0003_AGE_0075_CONTRAST_1_CT.dcm  \n",
       "4  ID_0004_AGE_0056_CONTRAST_1_CT.tif  ID_0004_AGE_0056_CONTRAST_1_CT.dcm  "
      ]
     },
     "execution_count": 3,
     "metadata": {},
     "output_type": "execute_result"
    }
   ],
   "source": [
    "overview = pd.read_csv('overview.csv')\n",
    "\n",
    "overview.head()"
   ]
  },
  {
   "cell_type": "code",
   "execution_count": 11,
   "metadata": {},
   "outputs": [],
   "source": [
    "all_images_list = glob(os.path.join('tiff_images','*.tif'))\n",
    "\n"
   ]
  },
  {
   "cell_type": "code",
   "execution_count": 56,
   "metadata": {},
   "outputs": [
    {
     "data": {
      "text/plain": [
       "<matplotlib.image.AxesImage at 0x7fe97067a970>"
      ]
     },
     "execution_count": 56,
     "metadata": {},
     "output_type": "execute_result"
    },
    {
     "data": {
      "image/png": "[encoded data removed]",
      "text/plain": [
       "<Figure size 432x288 with 1 Axes>"
      ]
     },
     "metadata": {
      "needs_background": "light"
     },
     "output_type": "display_data"
    }
   ],
   "source": [
    "jimread = lambda x: np.expand_dims(imread(x)[::2,::2],0)\n",
    "test_image = jimread(all_images_list[0])\n",
    "plt.imshow(test_image[0])"
   ]
  },
  {
   "cell_type": "code",
   "execution_count": 42,
   "metadata": {},
   "outputs": [
    {
     "data": {
      "text/plain": [
       "numpy.ndarray"
      ]
     },
     "execution_count": 42,
     "metadata": {},
     "output_type": "execute_result"
    }
   ],
   "source": [
    "type(test_image[0])\n"
   ]
  },
  {
   "cell_type": "code",
   "execution_count": 14,
   "metadata": {},
   "outputs": [],
   "source": [
    "check_contrast = re.compile(r'ID_([\\d]+)_AGE_[\\d]+_CONTRAST_([\\d]+)_CT')\n",
    "label = []\n",
    "id_list = []\n",
    "for image in all_images_list:\n",
    "    id_list.append(check_contrast.findall(image)[0][0])\n",
    "    label.append(check_contrast.findall(image)[0][1])"
   ]
  },
  {
   "cell_type": "code",
   "execution_count": 15,
   "metadata": {},
   "outputs": [],
   "source": [
    "label_list = pd.DataFrame(label,id_list)"
   ]
  },
  {
   "cell_type": "code",
   "execution_count": 16,
   "metadata": {},
   "outputs": [
    {
     "data": {
      "text/html": [
       "<div>\n",
       "<style scoped>\n",
       "    .dataframe tbody tr th:only-of-type {\n",
       "        vertical-align: middle;\n",
       "    }\n",
       "\n",
       "    .dataframe tbody tr th {\n",
       "        vertical-align: top;\n",
       "    }\n",
       "\n",
       "    .dataframe thead th {\n",
       "        text-align: right;\n",
       "    }\n",
       "</style>\n",
       "<table border=\"1\" class=\"dataframe\">\n",
       "  <thead>\n",
       "    <tr style=\"text-align: right;\">\n",
       "      <th></th>\n",
       "      <th>0</th>\n",
       "    </tr>\n",
       "  </thead>\n",
       "  <tbody>\n",
       "    <tr>\n",
       "      <th>0074</th>\n",
       "      <td>0</td>\n",
       "    </tr>\n",
       "    <tr>\n",
       "      <th>0036</th>\n",
       "      <td>1</td>\n",
       "    </tr>\n",
       "    <tr>\n",
       "      <th>0068</th>\n",
       "      <td>0</td>\n",
       "    </tr>\n",
       "    <tr>\n",
       "      <th>0034</th>\n",
       "      <td>1</td>\n",
       "    </tr>\n",
       "    <tr>\n",
       "      <th>0035</th>\n",
       "      <td>1</td>\n",
       "    </tr>\n",
       "  </tbody>\n",
       "</table>\n",
       "</div>"
      ],
      "text/plain": [
       "      0\n",
       "0074  0\n",
       "0036  1\n",
       "0068  0\n",
       "0034  1\n",
       "0035  1"
      ]
     },
     "execution_count": 16,
     "metadata": {},
     "output_type": "execute_result"
    }
   ],
   "source": [
    "label_list.head()"
   ]
  },
  {
   "cell_type": "code",
   "execution_count": 17,
   "metadata": {},
   "outputs": [],
   "source": [
    "images = np.stack([jimread(i) for i in all_images_list],0)"
   ]
  },
  {
   "cell_type": "code",
   "execution_count": null,
   "metadata": {},
   "outputs": [],
   "source": []
  },
  {
   "cell_type": "code",
   "execution_count": 18,
   "metadata": {},
   "outputs": [],
   "source": [
    "from sklearn.model_selection import train_test_split\n",
    "\n",
    "X_train, X_test, y_train, y_test = train_test_split(images, label_list, test_size=0.1, random_state=0)"
   ]
  },
  {
   "cell_type": "code",
   "execution_count": 20,
   "metadata": {},
   "outputs": [],
   "source": [
    "n_train, depth, width, height = X_train.shape\n",
    "n_test,_,_,_ = X_test.shape\n",
    "\n",
    "input_shape = (width,height,depth)\n",
    "\n",
    "input_train = X_train.reshape((n_train, width,height,depth))\n",
    "input_train.shape\n",
    "input_train.astype('float32')\n",
    "input_train = input_train / np.max(input_train)\n"
   ]
  },
  {
   "cell_type": "code",
   "execution_count": 22,
   "metadata": {},
   "outputs": [],
   "source": [
    "from keras.utils import np_utils\n",
    "\n",
    "\n",
    "input_test = X_test.reshape(n_test, *input_shape)\n",
    "input_test.astype('float32')\n",
    "input_test = input_test / np.max(input_test)\n",
    "\n",
    "output_train = keras.utils.np_utils.to_categorical(y_train, 2)\n",
    "output_test = keras.utils.np_utils.to_categorical(y_test, 2)\n"
   ]
  },
  {
   "cell_type": "code",
   "execution_count": 30,
   "metadata": {},
   "outputs": [],
   "source": [
    "from keras.models import Sequential\n",
    "from keras.layers import Dense, Flatten\n",
    "from tensorflow.keras.optimizers import Adam\n",
    "from keras.layers import Conv2D, MaxPooling2D\n",
    "\n"
   ]
  },
  {
   "cell_type": "code",
   "execution_count": 32,
   "metadata": {},
   "outputs": [],
   "source": [
    "model = Sequential()\n",
    "\n",
    "model.add(Conv2D(50, (5, 5), activation='relu', input_shape=input_shape))\n",
    "model.add(MaxPooling2D(pool_size=(3, 3))) \n",
    "\n",
    "model.add(Conv2D(30, (4, 4), activation='relu', input_shape=input_shape))\n",
    "model.add(MaxPooling2D(pool_size=(2, 2))) \n",
    "\n",
    "model.add(Flatten()) \n",
    "model.add(Dense(2, activation='softmax'))"
   ]
  },
  {
   "cell_type": "code",
   "execution_count": 33,
   "metadata": {},
   "outputs": [],
   "source": [
    "model.compile(loss='categorical_crossentropy',\n",
    "              optimizer=Adam(),\n",
    "              metrics=['accuracy'])"
   ]
  },
  {
   "cell_type": "code",
   "execution_count": 34,
   "metadata": {},
   "outputs": [
    {
     "name": "stdout",
     "output_type": "stream",
     "text": [
      "Epoch 1/20\n",
      "5/5 [==============================] - 9s 2s/step - loss: 0.7093 - accuracy: 0.5444 - val_loss: 0.7410 - val_accuracy: 0.4000\n",
      "Epoch 2/20\n",
      "5/5 [==============================] - 7s 1s/step - loss: 0.6423 - accuracy: 0.5111 - val_loss: 0.6842 - val_accuracy: 0.4000\n",
      "Epoch 3/20\n",
      "5/5 [==============================] - 8s 2s/step - loss: 0.5595 - accuracy: 0.6778 - val_loss: 0.6856 - val_accuracy: 0.6000\n",
      "Epoch 4/20\n",
      "5/5 [==============================] - 7s 1s/step - loss: 0.4333 - accuracy: 0.8333 - val_loss: 0.6274 - val_accuracy: 0.8000\n",
      "Epoch 5/20\n",
      "5/5 [==============================] - 7s 1s/step - loss: 0.2582 - accuracy: 0.9111 - val_loss: 1.2229 - val_accuracy: 0.5000\n",
      "Epoch 6/20\n",
      "5/5 [==============================] - 7s 1s/step - loss: 0.2182 - accuracy: 0.8667 - val_loss: 0.8284 - val_accuracy: 0.7000\n",
      "Epoch 7/20\n",
      "5/5 [==============================] - 7s 1s/step - loss: 0.2433 - accuracy: 0.8889 - val_loss: 1.5232 - val_accuracy: 0.7000\n",
      "Epoch 8/20\n",
      "5/5 [==============================] - 7s 1s/step - loss: 0.1928 - accuracy: 0.9000 - val_loss: 1.3381 - val_accuracy: 0.8000\n",
      "Epoch 9/20\n",
      "5/5 [==============================] - 7s 1s/step - loss: 0.0632 - accuracy: 0.9889 - val_loss: 1.1381 - val_accuracy: 0.7000\n",
      "Epoch 10/20\n",
      "5/5 [==============================] - 7s 1s/step - loss: 0.0906 - accuracy: 0.9667 - val_loss: 1.1246 - val_accuracy: 0.8000\n",
      "Epoch 11/20\n",
      "5/5 [==============================] - 7s 1s/step - loss: 0.0336 - accuracy: 1.0000 - val_loss: 1.4304 - val_accuracy: 0.8000\n",
      "Epoch 12/20\n",
      "5/5 [==============================] - 7s 1s/step - loss: 0.0406 - accuracy: 0.9889 - val_loss: 1.2654 - val_accuracy: 0.9000\n",
      "Epoch 13/20\n",
      "5/5 [==============================] - 8s 2s/step - loss: 0.0147 - accuracy: 1.0000 - val_loss: 1.1258 - val_accuracy: 0.7000\n",
      "Epoch 14/20\n",
      "5/5 [==============================] - 7s 1s/step - loss: 0.0147 - accuracy: 1.0000 - val_loss: 1.1987 - val_accuracy: 0.7000\n",
      "Epoch 15/20\n",
      "5/5 [==============================] - 7s 1s/step - loss: 0.0084 - accuracy: 1.0000 - val_loss: 1.2425 - val_accuracy: 0.9000\n",
      "Epoch 16/20\n",
      "5/5 [==============================] - 8s 2s/step - loss: 0.0044 - accuracy: 1.0000 - val_loss: 1.3606 - val_accuracy: 0.9000\n",
      "Epoch 17/20\n",
      "5/5 [==============================] - 7s 1s/step - loss: 0.0048 - accuracy: 1.0000 - val_loss: 1.3824 - val_accuracy: 0.9000\n",
      "Epoch 18/20\n",
      "5/5 [==============================] - 7s 1s/step - loss: 0.0033 - accuracy: 1.0000 - val_loss: 1.3483 - val_accuracy: 0.9000\n",
      "Epoch 19/20\n",
      "5/5 [==============================] - 7s 1s/step - loss: 0.0024 - accuracy: 1.0000 - val_loss: 1.3214 - val_accuracy: 0.8000\n",
      "Epoch 20/20\n",
      "5/5 [==============================] - 7s 1s/step - loss: 0.0018 - accuracy: 1.0000 - val_loss: 1.3346 - val_accuracy: 0.8000\n"
     ]
    },
    {
     "data": {
      "text/plain": [
       "<keras.callbacks.History at 0x7fe9727e1250>"
      ]
     },
     "execution_count": 34,
     "metadata": {},
     "output_type": "execute_result"
    }
   ],
   "source": [
    "model.fit(input_train, output_train,\n",
    "            batch_size=20,\n",
    "            epochs=20,\n",
    "            verbose=1,\n",
    "            validation_data=(input_test, output_test))"
   ]
  },
  {
   "cell_type": "code",
   "execution_count": 35,
   "metadata": {},
   "outputs": [],
   "source": [
    "model.save('model.h5')  # creates a HDF5 file 'model.h5'"
   ]
  },
  {
   "cell_type": "code",
   "execution_count": 36,
   "metadata": {},
   "outputs": [
    {
     "data": {
      "text/plain": [
       "array([[2.7782005e-01, 7.2218001e-01],\n",
       "       [9.6647102e-01, 3.3528928e-02],\n",
       "       [9.8538637e-01, 1.4613597e-02],\n",
       "       [5.7727255e-13, 1.0000000e+00],\n",
       "       [5.8636433e-01, 4.1363573e-01],\n",
       "       [9.9721551e-01, 2.7845083e-03],\n",
       "       [8.4716241e-08, 9.9999988e-01],\n",
       "       [9.8137569e-01, 1.8624293e-02],\n",
       "       [5.8015103e-06, 9.9999416e-01],\n",
       "       [9.9051499e-01, 9.4849691e-03]], dtype=float32)"
      ]
     },
     "execution_count": 36,
     "metadata": {},
     "output_type": "execute_result"
    }
   ],
   "source": [
    "model.predict(input_test)"
   ]
  },
  {
   "cell_type": "code",
   "execution_count": null,
   "metadata": {},
   "outputs": [],
   "source": []
  }
 ],
 "metadata": {
  "interpreter": {
   "hash": "916dbcbb3f70747c44a77c7bcd40155683ae19c65e1c03b4aa3499c5328201f1"
  },
  "kernelspec": {
   "display_name": "Python 3.8.10 64-bit",
   "language": "python",
   "name": "python3"
  },
  "language_info": {
   "codemirror_mode": {
    "name": "ipython",
    "version": 3
   },
   "file_extension": ".py",
   "mimetype": "text/x-python",
   "name": "python",
   "nbconvert_exporter": "python",
   "pygments_lexer": "ipython3",
   "version": "3.8.10"
  },
  "orig_nbformat": 4
 },
 "nbformat": 4,
 "nbformat_minor": 2
}
